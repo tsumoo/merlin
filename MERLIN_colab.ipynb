{
  "nbformat": 4,
  "nbformat_minor": 0,
  "metadata": {
    "colab": {
      "name": "merlin.ipynb",
      "provenance": [],
      "authorship_tag": "ABX9TyN1rcOUIw/fvAIHqBY8I8H+",
      "include_colab_link": true
    },
    "kernelspec": {
      "name": "python3",
      "display_name": "Python 3"
    },
    "accelerator": "GPU"
  },
  "cells": [
    {
      "cell_type": "markdown",
      "metadata": {
        "id": "view-in-github",
        "colab_type": "text"
      },
      "source": [
        "<a href=\"https://colab.research.google.com/github/tsumoo/merlin/blob/master/MERLIN_colab.ipynb\" target=\"_parent\"><img src=\"https://colab.research.google.com/assets/colab-badge.svg\" alt=\"Open In Colab\"/></a>"
      ]
    },
    {
      "cell_type": "code",
      "metadata": {
        "id": "ocIxQRucx92p"
      },
      "source": [
        "!git clone https://github.com/CSTR-Edinburgh/merlin.git"
      ],
      "execution_count": null,
      "outputs": []
    },
    {
      "cell_type": "code",
      "metadata": {
        "id": "8AQtxPR9ya1f"
      },
      "source": [
        "!apt update\r\n",
        "!apt install csh autotools-dev automake python-pip\r\n",
        "# realpath"
      ],
      "execution_count": null,
      "outputs": []
    },
    {
      "cell_type": "code",
      "metadata": {
        "id": "pFznJVf6yJ3c"
      },
      "source": [
        "!cd merlin/tools;./compile_tools.sh"
      ],
      "execution_count": null,
      "outputs": []
    },
    {
      "cell_type": "code",
      "metadata": {
        "id": "CyqnozuizqJN"
      },
      "source": [
        "!pip install bandmat"
      ],
      "execution_count": null,
      "outputs": []
    },
    {
      "cell_type": "code",
      "metadata": {
        "id": "ky8gzVHsyLkR"
      },
      "source": [
        "!cd merlin/egs/slt_arctic/s1/; USER=hoge ./run_demo.sh"
      ],
      "execution_count": null,
      "outputs": []
    },
    {
      "cell_type": "code",
      "metadata": {
        "id": "wX6Wwccxz0MS"
      },
      "source": [
        "!cd merlin/egs/slt_arctic/s1/; USER=hoge ./run_full_voice.sh"
      ],
      "execution_count": null,
      "outputs": []
    },
    {
      "cell_type": "code",
      "metadata": {
        "id": "d3RKP-CI0GBG"
      },
      "source": [
        ""
      ],
      "execution_count": null,
      "outputs": []
    }
  ]
}